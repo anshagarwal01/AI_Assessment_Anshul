{
 "cells": [
  {
   "cell_type": "markdown",
   "id": "19d44790",
   "metadata": {},
   "source": [
    "# AI Assessment - Click Advertisement Prediction"
   ]
  },
  {
   "cell_type": "code",
   "execution_count": 1,
   "id": "0c8415d8",
   "metadata": {},
   "outputs": [],
   "source": [
    "import os\n",
    "import pandas as pd\n",
    "import numpy as np\n",
    "import matplotlib.pyplot as plt\n",
    "import seaborn as sns\n",
    "%matplotlib inline"
   ]
  },
  {
   "cell_type": "markdown",
   "id": "9b37c59e",
   "metadata": {},
   "source": [
    "# EDA - Exploratory Data Analysis"
   ]
  },
  {
   "cell_type": "code",
   "execution_count": 2,
   "id": "4f76cf60",
   "metadata": {},
   "outputs": [
    {
     "data": {
      "text/html": [
       "<div>\n",
       "<style scoped>\n",
       "    .dataframe tbody tr th:only-of-type {\n",
       "        vertical-align: middle;\n",
       "    }\n",
       "\n",
       "    .dataframe tbody tr th {\n",
       "        vertical-align: top;\n",
       "    }\n",
       "\n",
       "    .dataframe thead th {\n",
       "        text-align: right;\n",
       "    }\n",
       "</style>\n",
       "<table border=\"1\" class=\"dataframe\">\n",
       "  <thead>\n",
       "    <tr style=\"text-align: right;\">\n",
       "      <th></th>\n",
       "      <th>Daily Time Spent on Site</th>\n",
       "      <th>Age</th>\n",
       "      <th>Area Income</th>\n",
       "      <th>Daily Internet Usage</th>\n",
       "      <th>Ad Topic Line</th>\n",
       "      <th>City</th>\n",
       "      <th>Male</th>\n",
       "      <th>Country</th>\n",
       "      <th>Timestamp</th>\n",
       "      <th>Clicked on Ad</th>\n",
       "    </tr>\n",
       "  </thead>\n",
       "  <tbody>\n",
       "    <tr>\n",
       "      <th>0</th>\n",
       "      <td>68.95</td>\n",
       "      <td>35</td>\n",
       "      <td>61833.90</td>\n",
       "      <td>256.09</td>\n",
       "      <td>Cloned 5thgeneration orchestration</td>\n",
       "      <td>Wrightburgh</td>\n",
       "      <td>0</td>\n",
       "      <td>Tunisia</td>\n",
       "      <td>2016-03-27 00:53:11</td>\n",
       "      <td>0</td>\n",
       "    </tr>\n",
       "    <tr>\n",
       "      <th>1</th>\n",
       "      <td>80.23</td>\n",
       "      <td>31</td>\n",
       "      <td>68441.85</td>\n",
       "      <td>193.77</td>\n",
       "      <td>Monitored national standardization</td>\n",
       "      <td>West Jodi</td>\n",
       "      <td>1</td>\n",
       "      <td>Nauru</td>\n",
       "      <td>2016-04-04 01:39:02</td>\n",
       "      <td>0</td>\n",
       "    </tr>\n",
       "    <tr>\n",
       "      <th>2</th>\n",
       "      <td>69.47</td>\n",
       "      <td>26</td>\n",
       "      <td>59785.94</td>\n",
       "      <td>236.50</td>\n",
       "      <td>Organic bottom-line service-desk</td>\n",
       "      <td>Davidton</td>\n",
       "      <td>0</td>\n",
       "      <td>San Marino</td>\n",
       "      <td>2016-03-13 20:35:42</td>\n",
       "      <td>0</td>\n",
       "    </tr>\n",
       "    <tr>\n",
       "      <th>3</th>\n",
       "      <td>74.15</td>\n",
       "      <td>29</td>\n",
       "      <td>54806.18</td>\n",
       "      <td>245.89</td>\n",
       "      <td>Triple-buffered reciprocal time-frame</td>\n",
       "      <td>West Terrifurt</td>\n",
       "      <td>1</td>\n",
       "      <td>Italy</td>\n",
       "      <td>2016-01-10 02:31:19</td>\n",
       "      <td>0</td>\n",
       "    </tr>\n",
       "    <tr>\n",
       "      <th>4</th>\n",
       "      <td>68.37</td>\n",
       "      <td>35</td>\n",
       "      <td>73889.99</td>\n",
       "      <td>225.58</td>\n",
       "      <td>Robust logistical utilization</td>\n",
       "      <td>South Manuel</td>\n",
       "      <td>0</td>\n",
       "      <td>Iceland</td>\n",
       "      <td>2016-06-03 03:36:18</td>\n",
       "      <td>0</td>\n",
       "    </tr>\n",
       "  </tbody>\n",
       "</table>\n",
       "</div>"
      ],
      "text/plain": [
       "   Daily Time Spent on Site  Age  Area Income  Daily Internet Usage  \\\n",
       "0                     68.95   35     61833.90                256.09   \n",
       "1                     80.23   31     68441.85                193.77   \n",
       "2                     69.47   26     59785.94                236.50   \n",
       "3                     74.15   29     54806.18                245.89   \n",
       "4                     68.37   35     73889.99                225.58   \n",
       "\n",
       "                           Ad Topic Line            City  Male     Country  \\\n",
       "0     Cloned 5thgeneration orchestration     Wrightburgh     0     Tunisia   \n",
       "1     Monitored national standardization       West Jodi     1       Nauru   \n",
       "2       Organic bottom-line service-desk        Davidton     0  San Marino   \n",
       "3  Triple-buffered reciprocal time-frame  West Terrifurt     1       Italy   \n",
       "4          Robust logistical utilization    South Manuel     0     Iceland   \n",
       "\n",
       "             Timestamp  Clicked on Ad  \n",
       "0  2016-03-27 00:53:11              0  \n",
       "1  2016-04-04 01:39:02              0  \n",
       "2  2016-03-13 20:35:42              0  \n",
       "3  2016-01-10 02:31:19              0  \n",
       "4  2016-06-03 03:36:18              0  "
      ]
     },
     "execution_count": 2,
     "metadata": {},
     "output_type": "execute_result"
    }
   ],
   "source": [
    "data = pd.read_csv('/Users/anshagarwal/Desktop/AI Assignment/advertising-1.csv')\n",
    "data.head()"
   ]
  },
  {
   "cell_type": "code",
   "execution_count": 3,
   "id": "56b1dbaa",
   "metadata": {},
   "outputs": [
    {
     "data": {
      "text/html": [
       "<div>\n",
       "<style scoped>\n",
       "    .dataframe tbody tr th:only-of-type {\n",
       "        vertical-align: middle;\n",
       "    }\n",
       "\n",
       "    .dataframe tbody tr th {\n",
       "        vertical-align: top;\n",
       "    }\n",
       "\n",
       "    .dataframe thead th {\n",
       "        text-align: right;\n",
       "    }\n",
       "</style>\n",
       "<table border=\"1\" class=\"dataframe\">\n",
       "  <thead>\n",
       "    <tr style=\"text-align: right;\">\n",
       "      <th></th>\n",
       "      <th>Daily Time Spent on Site</th>\n",
       "      <th>Age</th>\n",
       "      <th>Area Income</th>\n",
       "      <th>Daily Internet Usage</th>\n",
       "      <th>Ad Topic Line</th>\n",
       "      <th>City</th>\n",
       "      <th>Male</th>\n",
       "      <th>Country</th>\n",
       "      <th>Timestamp</th>\n",
       "      <th>Clicked on Ad</th>\n",
       "    </tr>\n",
       "  </thead>\n",
       "  <tbody>\n",
       "    <tr>\n",
       "      <th>995</th>\n",
       "      <td>72.97</td>\n",
       "      <td>30</td>\n",
       "      <td>71384.57</td>\n",
       "      <td>208.58</td>\n",
       "      <td>Fundamental modular algorithm</td>\n",
       "      <td>Duffystad</td>\n",
       "      <td>1</td>\n",
       "      <td>Lebanon</td>\n",
       "      <td>2016-02-11 21:49:00</td>\n",
       "      <td>1</td>\n",
       "    </tr>\n",
       "    <tr>\n",
       "      <th>996</th>\n",
       "      <td>51.30</td>\n",
       "      <td>45</td>\n",
       "      <td>67782.17</td>\n",
       "      <td>134.42</td>\n",
       "      <td>Grass-roots cohesive monitoring</td>\n",
       "      <td>New Darlene</td>\n",
       "      <td>1</td>\n",
       "      <td>Bosnia and Herzegovina</td>\n",
       "      <td>2016-04-22 02:07:01</td>\n",
       "      <td>1</td>\n",
       "    </tr>\n",
       "    <tr>\n",
       "      <th>997</th>\n",
       "      <td>51.63</td>\n",
       "      <td>51</td>\n",
       "      <td>42415.72</td>\n",
       "      <td>120.37</td>\n",
       "      <td>Expanded intangible solution</td>\n",
       "      <td>South Jessica</td>\n",
       "      <td>1</td>\n",
       "      <td>Mongolia</td>\n",
       "      <td>2016-02-01 17:24:57</td>\n",
       "      <td>1</td>\n",
       "    </tr>\n",
       "    <tr>\n",
       "      <th>998</th>\n",
       "      <td>55.55</td>\n",
       "      <td>19</td>\n",
       "      <td>41920.79</td>\n",
       "      <td>187.95</td>\n",
       "      <td>Proactive bandwidth-monitored policy</td>\n",
       "      <td>West Steven</td>\n",
       "      <td>0</td>\n",
       "      <td>Guatemala</td>\n",
       "      <td>2016-03-24 02:35:54</td>\n",
       "      <td>0</td>\n",
       "    </tr>\n",
       "    <tr>\n",
       "      <th>999</th>\n",
       "      <td>45.01</td>\n",
       "      <td>26</td>\n",
       "      <td>29875.80</td>\n",
       "      <td>178.35</td>\n",
       "      <td>Virtual 5thgeneration emulation</td>\n",
       "      <td>Ronniemouth</td>\n",
       "      <td>0</td>\n",
       "      <td>Brazil</td>\n",
       "      <td>2016-06-03 21:43:21</td>\n",
       "      <td>1</td>\n",
       "    </tr>\n",
       "  </tbody>\n",
       "</table>\n",
       "</div>"
      ],
      "text/plain": [
       "     Daily Time Spent on Site  Age  Area Income  Daily Internet Usage  \\\n",
       "995                     72.97   30     71384.57                208.58   \n",
       "996                     51.30   45     67782.17                134.42   \n",
       "997                     51.63   51     42415.72                120.37   \n",
       "998                     55.55   19     41920.79                187.95   \n",
       "999                     45.01   26     29875.80                178.35   \n",
       "\n",
       "                            Ad Topic Line           City  Male  \\\n",
       "995         Fundamental modular algorithm      Duffystad     1   \n",
       "996       Grass-roots cohesive monitoring    New Darlene     1   \n",
       "997          Expanded intangible solution  South Jessica     1   \n",
       "998  Proactive bandwidth-monitored policy    West Steven     0   \n",
       "999       Virtual 5thgeneration emulation    Ronniemouth     0   \n",
       "\n",
       "                    Country            Timestamp  Clicked on Ad  \n",
       "995                 Lebanon  2016-02-11 21:49:00              1  \n",
       "996  Bosnia and Herzegovina  2016-04-22 02:07:01              1  \n",
       "997                Mongolia  2016-02-01 17:24:57              1  \n",
       "998               Guatemala  2016-03-24 02:35:54              0  \n",
       "999                  Brazil  2016-06-03 21:43:21              1  "
      ]
     },
     "execution_count": 3,
     "metadata": {},
     "output_type": "execute_result"
    }
   ],
   "source": [
    "data.tail()"
   ]
  },
  {
   "cell_type": "code",
   "execution_count": 4,
   "id": "4b28027d",
   "metadata": {},
   "outputs": [
    {
     "data": {
      "text/plain": [
       "(1000, 10)"
      ]
     },
     "execution_count": 4,
     "metadata": {},
     "output_type": "execute_result"
    }
   ],
   "source": [
    "data.shape"
   ]
  },
  {
   "cell_type": "code",
   "execution_count": 5,
   "id": "ab0d5db6",
   "metadata": {},
   "outputs": [
    {
     "name": "stdout",
     "output_type": "stream",
     "text": [
      "<class 'pandas.core.frame.DataFrame'>\n",
      "RangeIndex: 1000 entries, 0 to 999\n",
      "Data columns (total 10 columns):\n",
      " #   Column                    Non-Null Count  Dtype  \n",
      "---  ------                    --------------  -----  \n",
      " 0   Daily Time Spent on Site  1000 non-null   float64\n",
      " 1   Age                       1000 non-null   int64  \n",
      " 2   Area Income               1000 non-null   float64\n",
      " 3   Daily Internet Usage      1000 non-null   float64\n",
      " 4   Ad Topic Line             1000 non-null   object \n",
      " 5   City                      1000 non-null   object \n",
      " 6   Male                      1000 non-null   int64  \n",
      " 7   Country                   1000 non-null   object \n",
      " 8   Timestamp                 1000 non-null   object \n",
      " 9   Clicked on Ad             1000 non-null   int64  \n",
      "dtypes: float64(3), int64(3), object(4)\n",
      "memory usage: 78.2+ KB\n"
     ]
    }
   ],
   "source": [
    "data.info()"
   ]
  },
  {
   "cell_type": "code",
   "execution_count": 6,
   "id": "703f1266",
   "metadata": {},
   "outputs": [
    {
     "name": "stdout",
     "output_type": "stream",
     "text": [
      "(0, 10)\n"
     ]
    }
   ],
   "source": [
    "duplicate = data[data.duplicated()]\n",
    "print(duplicate.shape)"
   ]
  },
  {
   "cell_type": "code",
   "execution_count": 7,
   "id": "2b772a6b",
   "metadata": {},
   "outputs": [
    {
     "data": {
      "text/plain": [
       "Index(['Daily Time Spent on Site', 'Age', 'Area Income',\n",
       "       'Daily Internet Usage', 'Ad Topic Line', 'City', 'Male', 'Country',\n",
       "       'Timestamp', 'Clicked on Ad'],\n",
       "      dtype='object')"
      ]
     },
     "execution_count": 7,
     "metadata": {},
     "output_type": "execute_result"
    }
   ],
   "source": [
    "data.columns"
   ]
  },
  {
   "cell_type": "code",
   "execution_count": 8,
   "id": "d1a9e6e6",
   "metadata": {},
   "outputs": [
    {
     "data": {
      "text/plain": [
       "Daily Time Spent on Site    0\n",
       "Age                         0\n",
       "Area Income                 0\n",
       "Daily Internet Usage        0\n",
       "Ad Topic Line               0\n",
       "City                        0\n",
       "Male                        0\n",
       "Country                     0\n",
       "Timestamp                   0\n",
       "Clicked on Ad               0\n",
       "dtype: int64"
      ]
     },
     "execution_count": 8,
     "metadata": {},
     "output_type": "execute_result"
    }
   ],
   "source": [
    "data.isnull().sum()"
   ]
  },
  {
   "cell_type": "code",
   "execution_count": 9,
   "id": "626135b1",
   "metadata": {},
   "outputs": [
    {
     "data": {
      "text/plain": [
       "Text(0.5, 0, 'Age')"
      ]
     },
     "execution_count": 9,
     "metadata": {},
     "output_type": "execute_result"
    },
    {
     "data": {
      "image/png": "[encoded data removed]",
      "text/plain": [
       "<Figure size 432x288 with 1 Axes>"
      ]
     },
     "metadata": {},
     "output_type": "display_data"
    }
   ],
   "source": [
    "sns.set_style('whitegrid')\n",
    "data['Age'].hist(bins=30)\n",
    "plt.xlabel('Age')"
   ]
  },
  {
   "cell_type": "code",
   "execution_count": 10,
   "id": "ddce439e",
   "metadata": {},
   "outputs": [
    {
     "data": {
      "text/plain": [
       "<seaborn.axisgrid.JointGrid at 0x7fedfe2fbf70>"
      ]
     },
     "execution_count": 10,
     "metadata": {},
     "output_type": "execute_result"
    },
    {
     "data": {
      "image/png": "[encoded data removed]",
      "text/plain": [
       "<Figure size 432x432 with 3 Axes>"
      ]
     },
     "metadata": {},
     "output_type": "display_data"
    }
   ],
   "source": [
    "sns.jointplot(x='Age',y='Area Income',data=data)"
   ]
  },
  {
   "cell_type": "code",
   "execution_count": 11,
   "id": "b25a823a",
   "metadata": {},
   "outputs": [
    {
     "data": {
      "image/png": "[encoded data removed]",
      "text/plain": [
       "<Figure size 432x432 with 3 Axes>"
      ]
     },
     "metadata": {},
     "output_type": "display_data"
    }
   ],
   "source": [
    "sns.jointplot(x='Age',y='Daily Time Spent on Site',data=data,color='red',kind='kde');"
   ]
  },
  {
   "cell_type": "code",
   "execution_count": 12,
   "id": "2ad9b571",
   "metadata": {},
   "outputs": [
    {
     "data": {
      "text/plain": [
       "<seaborn.axisgrid.JointGrid at 0x7fedfef15220>"
      ]
     },
     "execution_count": 12,
     "metadata": {},
     "output_type": "execute_result"
    },
    {
     "data": {
      "image/png": "[encoded data removed]",
      "text/plain": [
       "<Figure size 432x432 with 3 Axes>"
      ]
     },
     "metadata": {},
     "output_type": "display_data"
    }
   ],
   "source": [
    "sns.jointplot(x='Daily Time Spent on Site',y='Daily Internet Usage',data=data,color='green')"
   ]
  },
  {
   "cell_type": "markdown",
   "id": "693590cf",
   "metadata": {},
   "source": [
    "# Model Building using ANN Keras "
   ]
  },
  {
   "cell_type": "code",
   "execution_count": 13,
   "id": "bba5057f",
   "metadata": {},
   "outputs": [],
   "source": [
    "from sklearn.model_selection import train_test_split"
   ]
  },
  {
   "cell_type": "code",
   "execution_count": 14,
   "id": "dbfa48e5",
   "metadata": {},
   "outputs": [],
   "source": [
    "X = data[['Daily Time Spent on Site', 'Age', 'Area Income','Daily Internet Usage', 'Male']]\n",
    "y = data['Clicked on Ad']"
   ]
  },
  {
   "cell_type": "code",
   "execution_count": 20,
   "id": "2029aaad",
   "metadata": {},
   "outputs": [],
   "source": [
    "X_train, X_test, y_train, y_test = train_test_split(X, y, test_size=0.3, random_state=0)"
   ]
  },
  {
   "cell_type": "code",
   "execution_count": 21,
   "id": "7cf33a29",
   "metadata": {},
   "outputs": [
    {
     "data": {
      "text/plain": [
       "Index(['Daily Time Spent on Site', 'Age', 'Area Income',\n",
       "       'Daily Internet Usage', 'Male'],\n",
       "      dtype='object')"
      ]
     },
     "execution_count": 21,
     "metadata": {},
     "output_type": "execute_result"
    }
   ],
   "source": [
    "X.columns"
   ]
  },
  {
   "cell_type": "code",
   "execution_count": 22,
   "id": "0a9e8999",
   "metadata": {},
   "outputs": [
    {
     "name": "stdout",
     "output_type": "stream",
     "text": [
      "(700, 5)\n",
      "(300, 5)\n",
      "(700,)\n",
      "(300,)\n"
     ]
    }
   ],
   "source": [
    "print(X_train.shape)\n",
    "print(X_test.shape)\n",
    "print(y_train.shape)\n",
    "print(y_test.shape)"
   ]
  },
  {
   "cell_type": "code",
   "execution_count": 23,
   "id": "440c59a6",
   "metadata": {},
   "outputs": [],
   "source": [
    "#Performing Feature Scaling\n",
    "from sklearn.preprocessing import StandardScaler\n",
    "sc = StandardScaler()\n",
    "X_train = sc.fit_transform(X_train)\n",
    "X_test = sc.transform(X_test)"
   ]
  },
  {
   "cell_type": "code",
   "execution_count": 24,
   "id": "3865258f",
   "metadata": {},
   "outputs": [],
   "source": [
    "import keras\n",
    "import tensorflow as tf\n",
    "from keras.models import Sequential\n",
    "from keras.layers import Dense"
   ]
  },
  {
   "cell_type": "code",
   "execution_count": 25,
   "id": "94a38e82",
   "metadata": {},
   "outputs": [
    {
     "name": "stderr",
     "output_type": "stream",
     "text": [
      "2022-11-05 22:51:38.153763: I tensorflow/core/platform/cpu_feature_guard.cc:193] This TensorFlow binary is optimized with oneAPI Deep Neural Network Library (oneDNN) to use the following CPU instructions in performance-critical operations:  AVX2 AVX512F AVX512_VNNI FMA\n",
      "To enable them in other operations, rebuild TensorFlow with the appropriate compiler flags.\n"
     ]
    }
   ],
   "source": [
    "#Initialising ANN\n",
    "ann = tf.keras.models.Sequential()"
   ]
  },
  {
   "cell_type": "code",
   "execution_count": 26,
   "id": "c6cfcac8",
   "metadata": {},
   "outputs": [],
   "source": [
    "# define the keras model\n",
    " #Adding First Hidden Layer\n",
    "ann.add(tf.keras.layers.Dense(units=6,activation=\"relu\"))"
   ]
  },
  {
   "cell_type": "code",
   "execution_count": 27,
   "id": "0c30645a",
   "metadata": {},
   "outputs": [],
   "source": [
    "#Adding Second Hidden Layer\n",
    "ann.add(tf.keras.layers.Dense(units=6,activation=\"relu\"))"
   ]
  },
  {
   "cell_type": "code",
   "execution_count": 28,
   "id": "1d8be356",
   "metadata": {},
   "outputs": [],
   "source": [
    "#Adding Output Layer\n",
    "ann.add(tf.keras.layers.Dense(units=1,activation=\"sigmoid\"))"
   ]
  },
  {
   "cell_type": "code",
   "execution_count": 29,
   "id": "c63b1586",
   "metadata": {},
   "outputs": [],
   "source": [
    "#Compiling ANN\n",
    "ann.compile(optimizer=\"adam\",loss=\"binary_crossentropy\",metrics=['accuracy'])"
   ]
  },
  {
   "cell_type": "code",
   "execution_count": 30,
   "id": "cc959506",
   "metadata": {},
   "outputs": [
    {
     "name": "stdout",
     "output_type": "stream",
     "text": [
      "Epoch 1/100\n",
      "22/22 [==============================] - 1s 1ms/step - loss: 0.6988 - accuracy: 0.4700\n",
      "Epoch 2/100\n",
      "22/22 [==============================] - 0s 1ms/step - loss: 0.6754 - accuracy: 0.5600\n",
      "Epoch 3/100\n",
      "22/22 [==============================] - 0s 2ms/step - loss: 0.6574 - accuracy: 0.6157\n",
      "Epoch 4/100\n",
      "22/22 [==============================] - 0s 2ms/step - loss: 0.6406 - accuracy: 0.6571\n",
      "Epoch 5/100\n",
      "22/22 [==============================] - 0s 2ms/step - loss: 0.6215 - accuracy: 0.7257\n",
      "Epoch 6/100\n",
      "22/22 [==============================] - 0s 2ms/step - loss: 0.5968 - accuracy: 0.7886\n",
      "Epoch 7/100\n",
      "22/22 [==============================] - 0s 2ms/step - loss: 0.5633 - accuracy: 0.8614\n",
      "Epoch 8/100\n",
      "22/22 [==============================] - 0s 2ms/step - loss: 0.5190 - accuracy: 0.8957\n",
      "Epoch 9/100\n",
      "22/22 [==============================] - 0s 2ms/step - loss: 0.4638 - accuracy: 0.9271\n",
      "Epoch 10/100\n",
      "22/22 [==============================] - 0s 1ms/step - loss: 0.4030 - accuracy: 0.9457\n",
      "Epoch 11/100\n",
      "22/22 [==============================] - 0s 2ms/step - loss: 0.3422 - accuracy: 0.9586\n",
      "Epoch 12/100\n",
      "22/22 [==============================] - 0s 1ms/step - loss: 0.2891 - accuracy: 0.9629\n",
      "Epoch 13/100\n",
      "22/22 [==============================] - 0s 2ms/step - loss: 0.2473 - accuracy: 0.9657\n",
      "Epoch 14/100\n",
      "22/22 [==============================] - 0s 2ms/step - loss: 0.2146 - accuracy: 0.9671\n",
      "Epoch 15/100\n",
      "22/22 [==============================] - 0s 2ms/step - loss: 0.1904 - accuracy: 0.9686\n",
      "Epoch 16/100\n",
      "22/22 [==============================] - 0s 2ms/step - loss: 0.1710 - accuracy: 0.9714\n",
      "Epoch 17/100\n",
      "22/22 [==============================] - 0s 2ms/step - loss: 0.1573 - accuracy: 0.9743\n",
      "Epoch 18/100\n",
      "22/22 [==============================] - 0s 2ms/step - loss: 0.1462 - accuracy: 0.9714\n",
      "Epoch 19/100\n",
      "22/22 [==============================] - 0s 2ms/step - loss: 0.1378 - accuracy: 0.9700\n",
      "Epoch 20/100\n",
      "22/22 [==============================] - 0s 2ms/step - loss: 0.1308 - accuracy: 0.9714\n",
      "Epoch 21/100\n",
      "22/22 [==============================] - 0s 2ms/step - loss: 0.1256 - accuracy: 0.9714\n",
      "Epoch 22/100\n",
      "22/22 [==============================] - 0s 1ms/step - loss: 0.1213 - accuracy: 0.9700\n",
      "Epoch 23/100\n",
      "22/22 [==============================] - 0s 2ms/step - loss: 0.1176 - accuracy: 0.9700\n",
      "Epoch 24/100\n",
      "22/22 [==============================] - 0s 2ms/step - loss: 0.1148 - accuracy: 0.9700\n",
      "Epoch 25/100\n",
      "22/22 [==============================] - 0s 2ms/step - loss: 0.1129 - accuracy: 0.9700\n",
      "Epoch 26/100\n",
      "22/22 [==============================] - 0s 2ms/step - loss: 0.1105 - accuracy: 0.9700\n",
      "Epoch 27/100\n",
      "22/22 [==============================] - 0s 2ms/step - loss: 0.1082 - accuracy: 0.9714\n",
      "Epoch 28/100\n",
      "22/22 [==============================] - 0s 2ms/step - loss: 0.1066 - accuracy: 0.9700\n",
      "Epoch 29/100\n",
      "22/22 [==============================] - 0s 2ms/step - loss: 0.1050 - accuracy: 0.9714\n",
      "Epoch 30/100\n",
      "22/22 [==============================] - 0s 2ms/step - loss: 0.1038 - accuracy: 0.9714\n",
      "Epoch 31/100\n",
      "22/22 [==============================] - 0s 1ms/step - loss: 0.1024 - accuracy: 0.9714\n",
      "Epoch 32/100\n",
      "22/22 [==============================] - 0s 2ms/step - loss: 0.1015 - accuracy: 0.9714\n",
      "Epoch 33/100\n",
      "22/22 [==============================] - 0s 2ms/step - loss: 0.1005 - accuracy: 0.9714\n",
      "Epoch 34/100\n",
      "22/22 [==============================] - 0s 2ms/step - loss: 0.0997 - accuracy: 0.9700\n",
      "Epoch 35/100\n",
      "22/22 [==============================] - 0s 1ms/step - loss: 0.0988 - accuracy: 0.9714\n",
      "Epoch 36/100\n",
      "22/22 [==============================] - 0s 2ms/step - loss: 0.0978 - accuracy: 0.9729\n",
      "Epoch 37/100\n",
      "22/22 [==============================] - 0s 2ms/step - loss: 0.0972 - accuracy: 0.9714\n",
      "Epoch 38/100\n",
      "22/22 [==============================] - 0s 2ms/step - loss: 0.0964 - accuracy: 0.9729\n",
      "Epoch 39/100\n",
      "22/22 [==============================] - 0s 2ms/step - loss: 0.0956 - accuracy: 0.9729\n",
      "Epoch 40/100\n",
      "22/22 [==============================] - 0s 2ms/step - loss: 0.0949 - accuracy: 0.9729\n",
      "Epoch 41/100\n",
      "22/22 [==============================] - 0s 2ms/step - loss: 0.0945 - accuracy: 0.9743\n",
      "Epoch 42/100\n",
      "22/22 [==============================] - 0s 2ms/step - loss: 0.0938 - accuracy: 0.9729\n",
      "Epoch 43/100\n",
      "22/22 [==============================] - 0s 2ms/step - loss: 0.0931 - accuracy: 0.9729\n",
      "Epoch 44/100\n",
      "22/22 [==============================] - 0s 2ms/step - loss: 0.0926 - accuracy: 0.9729\n",
      "Epoch 45/100\n",
      "22/22 [==============================] - 0s 2ms/step - loss: 0.0921 - accuracy: 0.9729\n",
      "Epoch 46/100\n",
      "22/22 [==============================] - 0s 2ms/step - loss: 0.0916 - accuracy: 0.9729\n",
      "Epoch 47/100\n",
      "22/22 [==============================] - 0s 2ms/step - loss: 0.0910 - accuracy: 0.9743\n",
      "Epoch 48/100\n",
      "22/22 [==============================] - 0s 2ms/step - loss: 0.0905 - accuracy: 0.9743\n",
      "Epoch 49/100\n",
      "22/22 [==============================] - 0s 2ms/step - loss: 0.0903 - accuracy: 0.9743\n",
      "Epoch 50/100\n",
      "22/22 [==============================] - 0s 1ms/step - loss: 0.0895 - accuracy: 0.9743\n",
      "Epoch 51/100\n",
      "22/22 [==============================] - 0s 2ms/step - loss: 0.0892 - accuracy: 0.9757\n",
      "Epoch 52/100\n",
      "22/22 [==============================] - 0s 2ms/step - loss: 0.0888 - accuracy: 0.9757\n",
      "Epoch 53/100\n",
      "22/22 [==============================] - 0s 2ms/step - loss: 0.0885 - accuracy: 0.9757\n",
      "Epoch 54/100\n",
      "22/22 [==============================] - 0s 1ms/step - loss: 0.0879 - accuracy: 0.9757\n",
      "Epoch 55/100\n",
      "22/22 [==============================] - 0s 1ms/step - loss: 0.0875 - accuracy: 0.9757\n",
      "Epoch 56/100\n",
      "22/22 [==============================] - 0s 2ms/step - loss: 0.0870 - accuracy: 0.9757\n",
      "Epoch 57/100\n",
      "22/22 [==============================] - 0s 1ms/step - loss: 0.0866 - accuracy: 0.9743\n",
      "Epoch 58/100\n",
      "22/22 [==============================] - 0s 2ms/step - loss: 0.0866 - accuracy: 0.9757\n",
      "Epoch 59/100\n",
      "22/22 [==============================] - 0s 2ms/step - loss: 0.0860 - accuracy: 0.9757\n",
      "Epoch 60/100\n",
      "22/22 [==============================] - 0s 2ms/step - loss: 0.0857 - accuracy: 0.9743\n",
      "Epoch 61/100\n",
      "22/22 [==============================] - 0s 2ms/step - loss: 0.0853 - accuracy: 0.9757\n",
      "Epoch 62/100\n",
      "22/22 [==============================] - 0s 2ms/step - loss: 0.0850 - accuracy: 0.9757\n",
      "Epoch 63/100\n",
      "22/22 [==============================] - 0s 2ms/step - loss: 0.0847 - accuracy: 0.9757\n",
      "Epoch 64/100\n",
      "22/22 [==============================] - 0s 2ms/step - loss: 0.0844 - accuracy: 0.9743\n",
      "Epoch 65/100\n",
      "22/22 [==============================] - 0s 2ms/step - loss: 0.0842 - accuracy: 0.9743\n",
      "Epoch 66/100\n",
      "22/22 [==============================] - 0s 1ms/step - loss: 0.0839 - accuracy: 0.9743\n",
      "Epoch 67/100\n",
      "22/22 [==============================] - 0s 2ms/step - loss: 0.0837 - accuracy: 0.9743\n",
      "Epoch 68/100\n",
      "22/22 [==============================] - 0s 2ms/step - loss: 0.0833 - accuracy: 0.9743\n",
      "Epoch 69/100\n",
      "22/22 [==============================] - 0s 2ms/step - loss: 0.0830 - accuracy: 0.9743\n",
      "Epoch 70/100\n",
      "22/22 [==============================] - 0s 2ms/step - loss: 0.0831 - accuracy: 0.9743\n",
      "Epoch 71/100\n",
      "22/22 [==============================] - 0s 2ms/step - loss: 0.0828 - accuracy: 0.9743\n",
      "Epoch 72/100\n",
      "22/22 [==============================] - 0s 1ms/step - loss: 0.0823 - accuracy: 0.9743\n",
      "Epoch 73/100\n",
      "22/22 [==============================] - 0s 1ms/step - loss: 0.0822 - accuracy: 0.9743\n",
      "Epoch 74/100\n",
      "22/22 [==============================] - 0s 1ms/step - loss: 0.0823 - accuracy: 0.9743\n",
      "Epoch 75/100\n",
      "22/22 [==============================] - 0s 1ms/step - loss: 0.0820 - accuracy: 0.9743\n",
      "Epoch 76/100\n",
      "22/22 [==============================] - 0s 1ms/step - loss: 0.0816 - accuracy: 0.9743\n",
      "Epoch 77/100\n",
      "22/22 [==============================] - 0s 1ms/step - loss: 0.0815 - accuracy: 0.9743\n",
      "Epoch 78/100\n",
      "22/22 [==============================] - 0s 1ms/step - loss: 0.0815 - accuracy: 0.9743\n",
      "Epoch 79/100\n",
      "22/22 [==============================] - 0s 1ms/step - loss: 0.0812 - accuracy: 0.9743\n",
      "Epoch 80/100\n",
      "22/22 [==============================] - 0s 2ms/step - loss: 0.0811 - accuracy: 0.9743\n",
      "Epoch 81/100\n",
      "22/22 [==============================] - 0s 1ms/step - loss: 0.0810 - accuracy: 0.9743\n",
      "Epoch 82/100\n",
      "22/22 [==============================] - 0s 1ms/step - loss: 0.0809 - accuracy: 0.9743\n",
      "Epoch 83/100\n"
     ]
    },
    {
     "name": "stdout",
     "output_type": "stream",
     "text": [
      "22/22 [==============================] - 0s 1ms/step - loss: 0.0806 - accuracy: 0.9743\n",
      "Epoch 84/100\n",
      "22/22 [==============================] - 0s 1ms/step - loss: 0.0806 - accuracy: 0.9743\n",
      "Epoch 85/100\n",
      "22/22 [==============================] - 0s 1ms/step - loss: 0.0804 - accuracy: 0.9743\n",
      "Epoch 86/100\n",
      "22/22 [==============================] - 0s 2ms/step - loss: 0.0804 - accuracy: 0.9743\n",
      "Epoch 87/100\n",
      "22/22 [==============================] - 0s 1ms/step - loss: 0.0801 - accuracy: 0.9743\n",
      "Epoch 88/100\n",
      "22/22 [==============================] - 0s 1ms/step - loss: 0.0805 - accuracy: 0.9743\n",
      "Epoch 89/100\n",
      "22/22 [==============================] - 0s 2ms/step - loss: 0.0801 - accuracy: 0.9743\n",
      "Epoch 90/100\n",
      "22/22 [==============================] - 0s 2ms/step - loss: 0.0798 - accuracy: 0.9743\n",
      "Epoch 91/100\n",
      "22/22 [==============================] - 0s 2ms/step - loss: 0.0797 - accuracy: 0.9743\n",
      "Epoch 92/100\n",
      "22/22 [==============================] - 0s 1ms/step - loss: 0.0797 - accuracy: 0.9743\n",
      "Epoch 93/100\n",
      "22/22 [==============================] - 0s 2ms/step - loss: 0.0795 - accuracy: 0.9743\n",
      "Epoch 94/100\n",
      "22/22 [==============================] - 0s 2ms/step - loss: 0.0794 - accuracy: 0.9743\n",
      "Epoch 95/100\n",
      "22/22 [==============================] - 0s 1ms/step - loss: 0.0793 - accuracy: 0.9743\n",
      "Epoch 96/100\n",
      "22/22 [==============================] - 0s 1ms/step - loss: 0.0790 - accuracy: 0.9743\n",
      "Epoch 97/100\n",
      "22/22 [==============================] - 0s 1ms/step - loss: 0.0789 - accuracy: 0.9743\n",
      "Epoch 98/100\n",
      "22/22 [==============================] - 0s 1ms/step - loss: 0.0790 - accuracy: 0.9743\n",
      "Epoch 99/100\n",
      "22/22 [==============================] - 0s 1ms/step - loss: 0.0787 - accuracy: 0.9743\n",
      "Epoch 100/100\n",
      "22/22 [==============================] - 0s 1ms/step - loss: 0.0786 - accuracy: 0.9743\n"
     ]
    },
    {
     "data": {
      "text/plain": [
       "<keras.callbacks.History at 0x7fede6268130>"
      ]
     },
     "execution_count": 30,
     "metadata": {},
     "output_type": "execute_result"
    }
   ],
   "source": [
    "#Fitting ANN\n",
    "ann.fit(X_train,y_train,batch_size=32,epochs = 100)"
   ]
  },
  {
   "cell_type": "code",
   "execution_count": 31,
   "id": "8657e9e9",
   "metadata": {},
   "outputs": [
    {
     "name": "stdout",
     "output_type": "stream",
     "text": [
      "10/10 [==============================] - 0s 1ms/step\n"
     ]
    }
   ],
   "source": [
    "y_pred = ann.predict(X_test)\n",
    "y_pred = (y_pred > 0.5)"
   ]
  },
  {
   "cell_type": "code",
   "execution_count": 32,
   "id": "c4b2b477",
   "metadata": {},
   "outputs": [
    {
     "name": "stdout",
     "output_type": "stream",
     "text": [
      "[[159   5]\n",
      " [  7 129]]\n",
      "The accuracy score is: 0.96\n"
     ]
    }
   ],
   "source": [
    "from sklearn.metrics import confusion_matrix, accuracy_score\n",
    "cm = confusion_matrix(y_test, y_pred)\n",
    "print(cm)\n",
    "score=accuracy_score(y_test,y_pred)\n",
    "print('The accuracy score is:', score)"
   ]
  },
  {
   "cell_type": "code",
   "execution_count": 35,
   "id": "ec6d482a",
   "metadata": {},
   "outputs": [
    {
     "name": "stdout",
     "output_type": "stream",
     "text": [
      "INFO:tensorflow:Assets written to: ram://955ab8be-b69b-4f19-85d7-0d917f4b7871/assets\n"
     ]
    }
   ],
   "source": [
    "#Saving created neural network\n",
    "import pickle\n",
    "pickle_out = open(\"ANN_Model.pkl\",\"wb\")\n",
    "pickle.dump(ann, pickle_out)\n",
    "pickle_out.close()"
   ]
  },
  {
   "cell_type": "markdown",
   "id": "482501de",
   "metadata": {},
   "source": [
    "# THANK YOU"
   ]
  },
  {
   "cell_type": "code",
   "execution_count": null,
   "id": "faa4e61e",
   "metadata": {},
   "outputs": [],
   "source": []
  },
  {
   "cell_type": "code",
   "execution_count": null,
   "id": "6ac5fc91",
   "metadata": {},
   "outputs": [],
   "source": []
  },
  {
   "cell_type": "code",
   "execution_count": null,
   "id": "7cb260cd",
   "metadata": {},
   "outputs": [],
   "source": []
  },
  {
   "cell_type": "code",
   "execution_count": null,
   "id": "17fe6acd",
   "metadata": {},
   "outputs": [],
   "source": []
  }
 ],
 "metadata": {
  "kernelspec": {
   "display_name": "Python 3 (ipykernel)",
   "language": "python",
   "name": "python3"
  },
  "language_info": {
   "codemirror_mode": {
    "name": "ipython",
    "version": 3
   },
   "file_extension": ".py",
   "mimetype": "text/x-python",
   "name": "python",
   "nbconvert_exporter": "python",
   "pygments_lexer": "ipython3",
   "version": "3.9.12"
  }
 },
 "nbformat": 4,
 "nbformat_minor": 5
}
